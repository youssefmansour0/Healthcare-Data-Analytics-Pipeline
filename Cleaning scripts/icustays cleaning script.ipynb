{
 "cells": [
  {
   "cell_type": "code",
   "execution_count": 1,
   "id": "6eed9fcd-546c-4253-a910-4700f1ea8933",
   "metadata": {},
   "outputs": [],
   "source": [
    "import pandas as pd"
   ]
  },
  {
   "cell_type": "code",
   "execution_count": 2,
   "id": "b0bc55f2-b23b-4631-8224-2b1f13f58aac",
   "metadata": {},
   "outputs": [],
   "source": [
    "df_icu = pd.read_csv(\"ICUSTAYS.csv\")"
   ]
  },
  {
   "cell_type": "code",
   "execution_count": 3,
   "id": "522549ba-3188-489b-a151-fb3516254f6f",
   "metadata": {},
   "outputs": [
    {
     "data": {
      "text/html": [
       "<div>\n",
       "<style scoped>\n",
       "    .dataframe tbody tr th:only-of-type {\n",
       "        vertical-align: middle;\n",
       "    }\n",
       "\n",
       "    .dataframe tbody tr th {\n",
       "        vertical-align: top;\n",
       "    }\n",
       "\n",
       "    .dataframe thead th {\n",
       "        text-align: right;\n",
       "    }\n",
       "</style>\n",
       "<table border=\"1\" class=\"dataframe\">\n",
       "  <thead>\n",
       "    <tr style=\"text-align: right;\">\n",
       "      <th></th>\n",
       "      <th>row_id</th>\n",
       "      <th>subject_id</th>\n",
       "      <th>hadm_id</th>\n",
       "      <th>icustay_id</th>\n",
       "      <th>dbsource</th>\n",
       "      <th>first_careunit</th>\n",
       "      <th>last_careunit</th>\n",
       "      <th>first_wardid</th>\n",
       "      <th>last_wardid</th>\n",
       "      <th>intime</th>\n",
       "      <th>outtime</th>\n",
       "      <th>los</th>\n",
       "    </tr>\n",
       "  </thead>\n",
       "  <tbody>\n",
       "    <tr>\n",
       "      <th>0</th>\n",
       "      <td>12742</td>\n",
       "      <td>10006</td>\n",
       "      <td>142345</td>\n",
       "      <td>206504</td>\n",
       "      <td>carevue</td>\n",
       "      <td>MICU</td>\n",
       "      <td>MICU</td>\n",
       "      <td>52</td>\n",
       "      <td>52</td>\n",
       "      <td>2164-10-23 21:10:15</td>\n",
       "      <td>2164-10-25 12:21:07</td>\n",
       "      <td>1.6325</td>\n",
       "    </tr>\n",
       "    <tr>\n",
       "      <th>1</th>\n",
       "      <td>12747</td>\n",
       "      <td>10011</td>\n",
       "      <td>105331</td>\n",
       "      <td>232110</td>\n",
       "      <td>carevue</td>\n",
       "      <td>MICU</td>\n",
       "      <td>MICU</td>\n",
       "      <td>15</td>\n",
       "      <td>15</td>\n",
       "      <td>2126-08-14 22:34:00</td>\n",
       "      <td>2126-08-28 18:59:00</td>\n",
       "      <td>13.8507</td>\n",
       "    </tr>\n",
       "    <tr>\n",
       "      <th>2</th>\n",
       "      <td>12749</td>\n",
       "      <td>10013</td>\n",
       "      <td>165520</td>\n",
       "      <td>264446</td>\n",
       "      <td>carevue</td>\n",
       "      <td>MICU</td>\n",
       "      <td>MICU</td>\n",
       "      <td>15</td>\n",
       "      <td>15</td>\n",
       "      <td>2125-10-04 23:38:00</td>\n",
       "      <td>2125-10-07 15:13:52</td>\n",
       "      <td>2.6499</td>\n",
       "    </tr>\n",
       "    <tr>\n",
       "      <th>3</th>\n",
       "      <td>12754</td>\n",
       "      <td>10017</td>\n",
       "      <td>199207</td>\n",
       "      <td>204881</td>\n",
       "      <td>carevue</td>\n",
       "      <td>CCU</td>\n",
       "      <td>CCU</td>\n",
       "      <td>7</td>\n",
       "      <td>7</td>\n",
       "      <td>2149-05-29 18:52:29</td>\n",
       "      <td>2149-05-31 22:19:17</td>\n",
       "      <td>2.1436</td>\n",
       "    </tr>\n",
       "    <tr>\n",
       "      <th>4</th>\n",
       "      <td>12755</td>\n",
       "      <td>10019</td>\n",
       "      <td>177759</td>\n",
       "      <td>228977</td>\n",
       "      <td>carevue</td>\n",
       "      <td>MICU</td>\n",
       "      <td>MICU</td>\n",
       "      <td>15</td>\n",
       "      <td>15</td>\n",
       "      <td>2163-05-14 20:43:56</td>\n",
       "      <td>2163-05-16 03:47:04</td>\n",
       "      <td>1.2938</td>\n",
       "    </tr>\n",
       "  </tbody>\n",
       "</table>\n",
       "</div>"
      ],
      "text/plain": [
       "   row_id  subject_id  hadm_id  icustay_id dbsource first_careunit  \\\n",
       "0   12742       10006   142345      206504  carevue           MICU   \n",
       "1   12747       10011   105331      232110  carevue           MICU   \n",
       "2   12749       10013   165520      264446  carevue           MICU   \n",
       "3   12754       10017   199207      204881  carevue            CCU   \n",
       "4   12755       10019   177759      228977  carevue           MICU   \n",
       "\n",
       "  last_careunit  first_wardid  last_wardid               intime  \\\n",
       "0          MICU            52           52  2164-10-23 21:10:15   \n",
       "1          MICU            15           15  2126-08-14 22:34:00   \n",
       "2          MICU            15           15  2125-10-04 23:38:00   \n",
       "3           CCU             7            7  2149-05-29 18:52:29   \n",
       "4          MICU            15           15  2163-05-14 20:43:56   \n",
       "\n",
       "               outtime      los  \n",
       "0  2164-10-25 12:21:07   1.6325  \n",
       "1  2126-08-28 18:59:00  13.8507  \n",
       "2  2125-10-07 15:13:52   2.6499  \n",
       "3  2149-05-31 22:19:17   2.1436  \n",
       "4  2163-05-16 03:47:04   1.2938  "
      ]
     },
     "execution_count": 3,
     "metadata": {},
     "output_type": "execute_result"
    }
   ],
   "source": [
    "df_icu.head()"
   ]
  },
  {
   "cell_type": "code",
   "execution_count": 4,
   "id": "c9789141-a686-45fe-9277-9ed3c151abc2",
   "metadata": {},
   "outputs": [
    {
     "name": "stdout",
     "output_type": "stream",
     "text": [
      "<class 'pandas.core.frame.DataFrame'>\n",
      "RangeIndex: 136 entries, 0 to 135\n",
      "Data columns (total 12 columns):\n",
      " #   Column          Non-Null Count  Dtype  \n",
      "---  ------          --------------  -----  \n",
      " 0   row_id          136 non-null    int64  \n",
      " 1   subject_id      136 non-null    int64  \n",
      " 2   hadm_id         136 non-null    int64  \n",
      " 3   icustay_id      136 non-null    int64  \n",
      " 4   dbsource        136 non-null    object \n",
      " 5   first_careunit  136 non-null    object \n",
      " 6   last_careunit   136 non-null    object \n",
      " 7   first_wardid    136 non-null    int64  \n",
      " 8   last_wardid     136 non-null    int64  \n",
      " 9   intime          136 non-null    object \n",
      " 10  outtime         136 non-null    object \n",
      " 11  los             136 non-null    float64\n",
      "dtypes: float64(1), int64(6), object(5)\n",
      "memory usage: 12.9+ KB\n"
     ]
    }
   ],
   "source": [
    "df_icu.info()"
   ]
  },
  {
   "cell_type": "code",
   "execution_count": 5,
   "id": "f0de3a65-7c40-4600-a11e-9c6aebb478b4",
   "metadata": {},
   "outputs": [],
   "source": [
    "df_icu['intime'] = pd.to_datetime(df_icu['intime'], errors='coerce')\n",
    "df_icu['outtime'] = pd.to_datetime(df_icu['outtime'], errors='coerce')"
   ]
  },
  {
   "cell_type": "code",
   "execution_count": 6,
   "id": "c1d4c3a5-ce38-4891-9818-6690001c7674",
   "metadata": {},
   "outputs": [],
   "source": [
    "df_icu = df_icu.drop_duplicates()"
   ]
  },
  {
   "cell_type": "code",
   "execution_count": 7,
   "id": "5d821f89-67c4-45eb-9bb4-275ff3ddcb30",
   "metadata": {},
   "outputs": [
    {
     "name": "stdout",
     "output_type": "stream",
     "text": [
      "<class 'pandas.core.frame.DataFrame'>\n",
      "RangeIndex: 136 entries, 0 to 135\n",
      "Data columns (total 12 columns):\n",
      " #   Column          Non-Null Count  Dtype         \n",
      "---  ------          --------------  -----         \n",
      " 0   row_id          136 non-null    int64         \n",
      " 1   subject_id      136 non-null    int64         \n",
      " 2   hadm_id         136 non-null    int64         \n",
      " 3   icustay_id      136 non-null    int64         \n",
      " 4   dbsource        136 non-null    object        \n",
      " 5   first_careunit  136 non-null    object        \n",
      " 6   last_careunit   136 non-null    object        \n",
      " 7   first_wardid    136 non-null    int64         \n",
      " 8   last_wardid     136 non-null    int64         \n",
      " 9   intime          136 non-null    datetime64[ns]\n",
      " 10  outtime         136 non-null    datetime64[ns]\n",
      " 11  los             136 non-null    float64       \n",
      "dtypes: datetime64[ns](2), float64(1), int64(6), object(3)\n",
      "memory usage: 12.9+ KB\n"
     ]
    }
   ],
   "source": [
    "df_icu.info()"
   ]
  },
  {
   "cell_type": "code",
   "execution_count": 9,
   "id": "a5c96373-4682-4162-ad76-1352cd2512bf",
   "metadata": {},
   "outputs": [],
   "source": [
    "df_icu.to_csv(\"icu_cleaned.csv\", index=False)"
   ]
  },
  {
   "cell_type": "code",
   "execution_count": null,
   "id": "09a564c9-47d1-405a-8987-d4b0c660d3d1",
   "metadata": {},
   "outputs": [],
   "source": []
  }
 ],
 "metadata": {
  "kernelspec": {
   "display_name": "Python 3 (ipykernel)",
   "language": "python",
   "name": "python3"
  },
  "language_info": {
   "codemirror_mode": {
    "name": "ipython",
    "version": 3
   },
   "file_extension": ".py",
   "mimetype": "text/x-python",
   "name": "python",
   "nbconvert_exporter": "python",
   "pygments_lexer": "ipython3",
   "version": "3.13.2"
  }
 },
 "nbformat": 4,
 "nbformat_minor": 5
}
