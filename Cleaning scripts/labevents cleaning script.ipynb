{
 "cells": [
  {
   "cell_type": "code",
   "execution_count": 3,
   "id": "b5a68056-621e-4f06-b7fc-5c35816a1c94",
   "metadata": {},
   "outputs": [],
   "source": [
    "import pandas as pd"
   ]
  },
  {
   "cell_type": "code",
   "execution_count": 4,
   "id": "4849f8fc-56fc-4e15-9fa3-6ec8541f9416",
   "metadata": {},
   "outputs": [],
   "source": [
    "df_lab = pd.read_csv(\"LABEVENTS.csv\")"
   ]
  },
  {
   "cell_type": "code",
   "execution_count": 5,
   "id": "92dc0816-6bf8-402a-9e4e-0b40ce9bee06",
   "metadata": {},
   "outputs": [
    {
     "data": {
      "text/html": [
       "<div>\n",
       "<style scoped>\n",
       "    .dataframe tbody tr th:only-of-type {\n",
       "        vertical-align: middle;\n",
       "    }\n",
       "\n",
       "    .dataframe tbody tr th {\n",
       "        vertical-align: top;\n",
       "    }\n",
       "\n",
       "    .dataframe thead th {\n",
       "        text-align: right;\n",
       "    }\n",
       "</style>\n",
       "<table border=\"1\" class=\"dataframe\">\n",
       "  <thead>\n",
       "    <tr style=\"text-align: right;\">\n",
       "      <th></th>\n",
       "      <th>row_id</th>\n",
       "      <th>subject_id</th>\n",
       "      <th>hadm_id</th>\n",
       "      <th>itemid</th>\n",
       "      <th>charttime</th>\n",
       "      <th>value</th>\n",
       "      <th>valuenum</th>\n",
       "      <th>valueuom</th>\n",
       "      <th>flag</th>\n",
       "    </tr>\n",
       "  </thead>\n",
       "  <tbody>\n",
       "    <tr>\n",
       "      <th>0</th>\n",
       "      <td>6244563</td>\n",
       "      <td>10006</td>\n",
       "      <td>NaN</td>\n",
       "      <td>50868</td>\n",
       "      <td>2164-09-24 20:21:00</td>\n",
       "      <td>19</td>\n",
       "      <td>19.0</td>\n",
       "      <td>mEq/L</td>\n",
       "      <td>NaN</td>\n",
       "    </tr>\n",
       "    <tr>\n",
       "      <th>1</th>\n",
       "      <td>6244564</td>\n",
       "      <td>10006</td>\n",
       "      <td>NaN</td>\n",
       "      <td>50882</td>\n",
       "      <td>2164-09-24 20:21:00</td>\n",
       "      <td>27</td>\n",
       "      <td>27.0</td>\n",
       "      <td>mEq/L</td>\n",
       "      <td>NaN</td>\n",
       "    </tr>\n",
       "    <tr>\n",
       "      <th>2</th>\n",
       "      <td>6244565</td>\n",
       "      <td>10006</td>\n",
       "      <td>NaN</td>\n",
       "      <td>50893</td>\n",
       "      <td>2164-09-24 20:21:00</td>\n",
       "      <td>10.0</td>\n",
       "      <td>10.0</td>\n",
       "      <td>mg/dL</td>\n",
       "      <td>NaN</td>\n",
       "    </tr>\n",
       "    <tr>\n",
       "      <th>3</th>\n",
       "      <td>6244566</td>\n",
       "      <td>10006</td>\n",
       "      <td>NaN</td>\n",
       "      <td>50902</td>\n",
       "      <td>2164-09-24 20:21:00</td>\n",
       "      <td>97</td>\n",
       "      <td>97.0</td>\n",
       "      <td>mEq/L</td>\n",
       "      <td>NaN</td>\n",
       "    </tr>\n",
       "    <tr>\n",
       "      <th>4</th>\n",
       "      <td>6244567</td>\n",
       "      <td>10006</td>\n",
       "      <td>NaN</td>\n",
       "      <td>50912</td>\n",
       "      <td>2164-09-24 20:21:00</td>\n",
       "      <td>7.0</td>\n",
       "      <td>7.0</td>\n",
       "      <td>mg/dL</td>\n",
       "      <td>abnormal</td>\n",
       "    </tr>\n",
       "  </tbody>\n",
       "</table>\n",
       "</div>"
      ],
      "text/plain": [
       "    row_id  subject_id  hadm_id  itemid            charttime value  valuenum  \\\n",
       "0  6244563       10006      NaN   50868  2164-09-24 20:21:00    19      19.0   \n",
       "1  6244564       10006      NaN   50882  2164-09-24 20:21:00    27      27.0   \n",
       "2  6244565       10006      NaN   50893  2164-09-24 20:21:00  10.0      10.0   \n",
       "3  6244566       10006      NaN   50902  2164-09-24 20:21:00    97      97.0   \n",
       "4  6244567       10006      NaN   50912  2164-09-24 20:21:00   7.0       7.0   \n",
       "\n",
       "  valueuom      flag  \n",
       "0    mEq/L       NaN  \n",
       "1    mEq/L       NaN  \n",
       "2    mg/dL       NaN  \n",
       "3    mEq/L       NaN  \n",
       "4    mg/dL  abnormal  "
      ]
     },
     "execution_count": 5,
     "metadata": {},
     "output_type": "execute_result"
    }
   ],
   "source": [
    "df_lab.head()"
   ]
  },
  {
   "cell_type": "code",
   "execution_count": 6,
   "id": "d8c78707-7d80-48db-9c24-370789ca5365",
   "metadata": {},
   "outputs": [
    {
     "name": "stdout",
     "output_type": "stream",
     "text": [
      "<class 'pandas.core.frame.DataFrame'>\n",
      "RangeIndex: 76074 entries, 0 to 76073\n",
      "Data columns (total 9 columns):\n",
      " #   Column      Non-Null Count  Dtype  \n",
      "---  ------      --------------  -----  \n",
      " 0   row_id      76074 non-null  int64  \n",
      " 1   subject_id  76074 non-null  int64  \n",
      " 2   hadm_id     61812 non-null  float64\n",
      " 3   itemid      76074 non-null  int64  \n",
      " 4   charttime   76074 non-null  object \n",
      " 5   value       76069 non-null  object \n",
      " 6   valuenum    67030 non-null  float64\n",
      " 7   valueuom    66669 non-null  object \n",
      " 8   flag        29737 non-null  object \n",
      "dtypes: float64(2), int64(3), object(4)\n",
      "memory usage: 5.2+ MB\n"
     ]
    }
   ],
   "source": [
    "df_lab.info()"
   ]
  },
  {
   "cell_type": "code",
   "execution_count": 7,
   "id": "327ed247-4984-40de-990f-e713b63b1a65",
   "metadata": {},
   "outputs": [],
   "source": [
    "\n",
    "# Convert charttime to datetime\n",
    "df_lab['charttime'] = pd.to_datetime(df_lab['charttime'], errors='coerce')\n",
    "\n",
    "# Delete rows that do not contain value or valuenum.\n",
    "df_lab = df_lab[~(df_lab['value'].isna() & df_lab['valuenum'].isna())]\n",
    "\n",
    "# Droping duplicates\n",
    "df_lab.drop_duplicates(inplace=True)\n"
   ]
  },
  {
   "cell_type": "code",
   "execution_count": 8,
   "id": "f2f4c1a0-1cac-4e39-af11-58b9a331e303",
   "metadata": {},
   "outputs": [
    {
     "name": "stdout",
     "output_type": "stream",
     "text": [
      "<class 'pandas.core.frame.DataFrame'>\n",
      "Index: 76069 entries, 0 to 76073\n",
      "Data columns (total 9 columns):\n",
      " #   Column      Non-Null Count  Dtype         \n",
      "---  ------      --------------  -----         \n",
      " 0   row_id      76069 non-null  int64         \n",
      " 1   subject_id  76069 non-null  int64         \n",
      " 2   hadm_id     61808 non-null  float64       \n",
      " 3   itemid      76069 non-null  int64         \n",
      " 4   charttime   76069 non-null  datetime64[ns]\n",
      " 5   value       76069 non-null  object        \n",
      " 6   valuenum    67030 non-null  float64       \n",
      " 7   valueuom    66668 non-null  object        \n",
      " 8   flag        29736 non-null  object        \n",
      "dtypes: datetime64[ns](1), float64(2), int64(3), object(3)\n",
      "memory usage: 5.8+ MB\n"
     ]
    }
   ],
   "source": [
    "df_lab.info()"
   ]
  },
  {
   "cell_type": "code",
   "execution_count": 9,
   "id": "4300d684-d892-4392-ab90-09bda9226486",
   "metadata": {},
   "outputs": [],
   "source": [
    "df_lab.to_csv(\"LABEVENTS_cleaned.csv\", index=False)"
   ]
  },
  {
   "cell_type": "code",
   "execution_count": null,
   "id": "1575fbcb-ce79-436b-86a2-b56768f4f11a",
   "metadata": {},
   "outputs": [],
   "source": []
  }
 ],
 "metadata": {
  "kernelspec": {
   "display_name": "Python 3 (ipykernel)",
   "language": "python",
   "name": "python3"
  },
  "language_info": {
   "codemirror_mode": {
    "name": "ipython",
    "version": 3
   },
   "file_extension": ".py",
   "mimetype": "text/x-python",
   "name": "python",
   "nbconvert_exporter": "python",
   "pygments_lexer": "ipython3",
   "version": "3.13.2"
  }
 },
 "nbformat": 4,
 "nbformat_minor": 5
}
