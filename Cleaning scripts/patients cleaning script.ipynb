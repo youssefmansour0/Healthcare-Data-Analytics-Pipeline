{
 "cells": [
  {
   "cell_type": "code",
   "execution_count": 1,
   "id": "4b6aa8a7-ab42-4846-a8b3-667061978e28",
   "metadata": {},
   "outputs": [],
   "source": [
    "import pandas as pd"
   ]
  },
  {
   "cell_type": "code",
   "execution_count": 4,
   "id": "fdd66025-be14-498f-b0ab-4246eb21d753",
   "metadata": {},
   "outputs": [
    {
     "data": {
      "text/html": [
       "<div>\n",
       "<style scoped>\n",
       "    .dataframe tbody tr th:only-of-type {\n",
       "        vertical-align: middle;\n",
       "    }\n",
       "\n",
       "    .dataframe tbody tr th {\n",
       "        vertical-align: top;\n",
       "    }\n",
       "\n",
       "    .dataframe thead th {\n",
       "        text-align: right;\n",
       "    }\n",
       "</style>\n",
       "<table border=\"1\" class=\"dataframe\">\n",
       "  <thead>\n",
       "    <tr style=\"text-align: right;\">\n",
       "      <th></th>\n",
       "      <th>row_id</th>\n",
       "      <th>subject_id</th>\n",
       "      <th>gender</th>\n",
       "      <th>dob</th>\n",
       "      <th>dod</th>\n",
       "      <th>dod_hosp</th>\n",
       "      <th>dod_ssn</th>\n",
       "      <th>expire_flag</th>\n",
       "    </tr>\n",
       "  </thead>\n",
       "  <tbody>\n",
       "    <tr>\n",
       "      <th>0</th>\n",
       "      <td>9467</td>\n",
       "      <td>10006</td>\n",
       "      <td>F</td>\n",
       "      <td>2094-03-05 00:00:00</td>\n",
       "      <td>2165-08-12 00:00:00</td>\n",
       "      <td>2165-08-12 00:00:00</td>\n",
       "      <td>2165-08-12 00:00:00</td>\n",
       "      <td>1</td>\n",
       "    </tr>\n",
       "    <tr>\n",
       "      <th>1</th>\n",
       "      <td>9472</td>\n",
       "      <td>10011</td>\n",
       "      <td>F</td>\n",
       "      <td>2090-06-05 00:00:00</td>\n",
       "      <td>2126-08-28 00:00:00</td>\n",
       "      <td>2126-08-28 00:00:00</td>\n",
       "      <td>NaN</td>\n",
       "      <td>1</td>\n",
       "    </tr>\n",
       "    <tr>\n",
       "      <th>2</th>\n",
       "      <td>9474</td>\n",
       "      <td>10013</td>\n",
       "      <td>F</td>\n",
       "      <td>2038-09-03 00:00:00</td>\n",
       "      <td>2125-10-07 00:00:00</td>\n",
       "      <td>2125-10-07 00:00:00</td>\n",
       "      <td>2125-10-07 00:00:00</td>\n",
       "      <td>1</td>\n",
       "    </tr>\n",
       "    <tr>\n",
       "      <th>3</th>\n",
       "      <td>9478</td>\n",
       "      <td>10017</td>\n",
       "      <td>F</td>\n",
       "      <td>2075-09-21 00:00:00</td>\n",
       "      <td>2152-09-12 00:00:00</td>\n",
       "      <td>NaN</td>\n",
       "      <td>2152-09-12 00:00:00</td>\n",
       "      <td>1</td>\n",
       "    </tr>\n",
       "    <tr>\n",
       "      <th>4</th>\n",
       "      <td>9479</td>\n",
       "      <td>10019</td>\n",
       "      <td>M</td>\n",
       "      <td>2114-06-20 00:00:00</td>\n",
       "      <td>2163-05-15 00:00:00</td>\n",
       "      <td>2163-05-15 00:00:00</td>\n",
       "      <td>2163-05-15 00:00:00</td>\n",
       "      <td>1</td>\n",
       "    </tr>\n",
       "  </tbody>\n",
       "</table>\n",
       "</div>"
      ],
      "text/plain": [
       "   row_id  subject_id gender                  dob                  dod  \\\n",
       "0    9467       10006      F  2094-03-05 00:00:00  2165-08-12 00:00:00   \n",
       "1    9472       10011      F  2090-06-05 00:00:00  2126-08-28 00:00:00   \n",
       "2    9474       10013      F  2038-09-03 00:00:00  2125-10-07 00:00:00   \n",
       "3    9478       10017      F  2075-09-21 00:00:00  2152-09-12 00:00:00   \n",
       "4    9479       10019      M  2114-06-20 00:00:00  2163-05-15 00:00:00   \n",
       "\n",
       "              dod_hosp              dod_ssn  expire_flag  \n",
       "0  2165-08-12 00:00:00  2165-08-12 00:00:00            1  \n",
       "1  2126-08-28 00:00:00                  NaN            1  \n",
       "2  2125-10-07 00:00:00  2125-10-07 00:00:00            1  \n",
       "3                  NaN  2152-09-12 00:00:00            1  \n",
       "4  2163-05-15 00:00:00  2163-05-15 00:00:00            1  "
      ]
     },
     "execution_count": 4,
     "metadata": {},
     "output_type": "execute_result"
    }
   ],
   "source": [
    "df = pd.read_csv('PATIENTS.csv')\n",
    "df.head()"
   ]
  },
  {
   "cell_type": "code",
   "execution_count": 5,
   "id": "b5242d84-193d-4be9-93dd-62a6f11706eb",
   "metadata": {},
   "outputs": [
    {
     "name": "stdout",
     "output_type": "stream",
     "text": [
      "<class 'pandas.core.frame.DataFrame'>\n",
      "RangeIndex: 100 entries, 0 to 99\n",
      "Data columns (total 8 columns):\n",
      " #   Column       Non-Null Count  Dtype \n",
      "---  ------       --------------  ----- \n",
      " 0   row_id       100 non-null    int64 \n",
      " 1   subject_id   100 non-null    int64 \n",
      " 2   gender       100 non-null    object\n",
      " 3   dob          100 non-null    object\n",
      " 4   dod          100 non-null    object\n",
      " 5   dod_hosp     70 non-null     object\n",
      " 6   dod_ssn      77 non-null     object\n",
      " 7   expire_flag  100 non-null    int64 \n",
      "dtypes: int64(3), object(5)\n",
      "memory usage: 6.4+ KB\n"
     ]
    }
   ],
   "source": [
    "df.info()"
   ]
  },
  {
   "cell_type": "code",
   "execution_count": 6,
   "id": "5fb88e38-deb6-43ae-84c0-00a3276b7e9d",
   "metadata": {},
   "outputs": [
    {
     "data": {
      "text/plain": [
       "row_id          0\n",
       "subject_id      0\n",
       "gender          0\n",
       "dob             0\n",
       "dod             0\n",
       "dod_hosp       30\n",
       "dod_ssn        23\n",
       "expire_flag     0\n",
       "dtype: int64"
      ]
     },
     "execution_count": 6,
     "metadata": {},
     "output_type": "execute_result"
    }
   ],
   "source": [
    "df.isnull().sum()"
   ]
  },
  {
   "cell_type": "code",
   "execution_count": 7,
   "id": "13247296-e933-4d04-9f32-26b5c79d88f3",
   "metadata": {},
   "outputs": [],
   "source": [
    "df['dob'] = pd.to_datetime(df['dob'], errors='coerce')\n",
    "df['dod'] = pd.to_datetime(df['dod'], errors='coerce')\n",
    "df['dod_hosp'] = pd.to_datetime(df['dod_hosp'], errors='coerce')\n",
    "df['dod_ssn'] = pd.to_datetime(df['dod_ssn'], errors='coerce')\n",
    "df['gender'] = df['gender'].astype('category')"
   ]
  },
  {
   "cell_type": "code",
   "execution_count": 8,
   "id": "989f61a0-d3b2-4e04-a9fc-a4cdc681ea4d",
   "metadata": {},
   "outputs": [],
   "source": [
    "df = df.drop_duplicates()"
   ]
  },
  {
   "cell_type": "code",
   "execution_count": 9,
   "id": "e67cf701-8d13-46a9-b629-636128c89c52",
   "metadata": {},
   "outputs": [
    {
     "name": "stdout",
     "output_type": "stream",
     "text": [
      "<class 'pandas.core.frame.DataFrame'>\n",
      "RangeIndex: 100 entries, 0 to 99\n",
      "Data columns (total 8 columns):\n",
      " #   Column       Non-Null Count  Dtype         \n",
      "---  ------       --------------  -----         \n",
      " 0   row_id       100 non-null    int64         \n",
      " 1   subject_id   100 non-null    int64         \n",
      " 2   gender       100 non-null    category      \n",
      " 3   dob          100 non-null    datetime64[ns]\n",
      " 4   dod          100 non-null    datetime64[ns]\n",
      " 5   dod_hosp     70 non-null     datetime64[ns]\n",
      " 6   dod_ssn      77 non-null     datetime64[ns]\n",
      " 7   expire_flag  100 non-null    int64         \n",
      "dtypes: category(1), datetime64[ns](4), int64(3)\n",
      "memory usage: 5.8 KB\n"
     ]
    }
   ],
   "source": [
    "df.info()"
   ]
  },
  {
   "cell_type": "code",
   "execution_count": 10,
   "id": "61b30eaa-be96-4468-b1fa-6ac3a8f0f76e",
   "metadata": {},
   "outputs": [
    {
     "data": {
      "text/html": [
       "<div>\n",
       "<style scoped>\n",
       "    .dataframe tbody tr th:only-of-type {\n",
       "        vertical-align: middle;\n",
       "    }\n",
       "\n",
       "    .dataframe tbody tr th {\n",
       "        vertical-align: top;\n",
       "    }\n",
       "\n",
       "    .dataframe thead th {\n",
       "        text-align: right;\n",
       "    }\n",
       "</style>\n",
       "<table border=\"1\" class=\"dataframe\">\n",
       "  <thead>\n",
       "    <tr style=\"text-align: right;\">\n",
       "      <th></th>\n",
       "      <th>row_id</th>\n",
       "      <th>subject_id</th>\n",
       "      <th>gender</th>\n",
       "      <th>dob</th>\n",
       "      <th>dod</th>\n",
       "      <th>dod_hosp</th>\n",
       "      <th>dod_ssn</th>\n",
       "      <th>expire_flag</th>\n",
       "    </tr>\n",
       "  </thead>\n",
       "  <tbody>\n",
       "    <tr>\n",
       "      <th>0</th>\n",
       "      <td>9467</td>\n",
       "      <td>10006</td>\n",
       "      <td>F</td>\n",
       "      <td>2094-03-05</td>\n",
       "      <td>2165-08-12</td>\n",
       "      <td>2165-08-12</td>\n",
       "      <td>2165-08-12</td>\n",
       "      <td>1</td>\n",
       "    </tr>\n",
       "    <tr>\n",
       "      <th>1</th>\n",
       "      <td>9472</td>\n",
       "      <td>10011</td>\n",
       "      <td>F</td>\n",
       "      <td>2090-06-05</td>\n",
       "      <td>2126-08-28</td>\n",
       "      <td>2126-08-28</td>\n",
       "      <td>NaT</td>\n",
       "      <td>1</td>\n",
       "    </tr>\n",
       "    <tr>\n",
       "      <th>2</th>\n",
       "      <td>9474</td>\n",
       "      <td>10013</td>\n",
       "      <td>F</td>\n",
       "      <td>2038-09-03</td>\n",
       "      <td>2125-10-07</td>\n",
       "      <td>2125-10-07</td>\n",
       "      <td>2125-10-07</td>\n",
       "      <td>1</td>\n",
       "    </tr>\n",
       "    <tr>\n",
       "      <th>3</th>\n",
       "      <td>9478</td>\n",
       "      <td>10017</td>\n",
       "      <td>F</td>\n",
       "      <td>2075-09-21</td>\n",
       "      <td>2152-09-12</td>\n",
       "      <td>NaT</td>\n",
       "      <td>2152-09-12</td>\n",
       "      <td>1</td>\n",
       "    </tr>\n",
       "    <tr>\n",
       "      <th>4</th>\n",
       "      <td>9479</td>\n",
       "      <td>10019</td>\n",
       "      <td>M</td>\n",
       "      <td>2114-06-20</td>\n",
       "      <td>2163-05-15</td>\n",
       "      <td>2163-05-15</td>\n",
       "      <td>2163-05-15</td>\n",
       "      <td>1</td>\n",
       "    </tr>\n",
       "  </tbody>\n",
       "</table>\n",
       "</div>"
      ],
      "text/plain": [
       "   row_id  subject_id gender        dob        dod   dod_hosp    dod_ssn  \\\n",
       "0    9467       10006      F 2094-03-05 2165-08-12 2165-08-12 2165-08-12   \n",
       "1    9472       10011      F 2090-06-05 2126-08-28 2126-08-28        NaT   \n",
       "2    9474       10013      F 2038-09-03 2125-10-07 2125-10-07 2125-10-07   \n",
       "3    9478       10017      F 2075-09-21 2152-09-12        NaT 2152-09-12   \n",
       "4    9479       10019      M 2114-06-20 2163-05-15 2163-05-15 2163-05-15   \n",
       "\n",
       "   expire_flag  \n",
       "0            1  \n",
       "1            1  \n",
       "2            1  \n",
       "3            1  \n",
       "4            1  "
      ]
     },
     "execution_count": 10,
     "metadata": {},
     "output_type": "execute_result"
    }
   ],
   "source": [
    "df.head()"
   ]
  },
  {
   "cell_type": "code",
   "execution_count": 15,
   "id": "c2bf1e73-9b2b-43bf-84ae-a741e78a38fe",
   "metadata": {},
   "outputs": [],
   "source": [
    "df.to_csv(\"patients_cleaned.csv\", index=False)"
   ]
  },
  {
   "cell_type": "code",
   "execution_count": 16,
   "id": "4ec3b4d9-507e-49a2-9a30-f502302b1869",
   "metadata": {},
   "outputs": [
    {
     "name": "stdout",
     "output_type": "stream",
     "text": [
      "<class 'pandas.core.frame.DataFrame'>\n",
      "RangeIndex: 100 entries, 0 to 99\n",
      "Data columns (total 8 columns):\n",
      " #   Column       Non-Null Count  Dtype         \n",
      "---  ------       --------------  -----         \n",
      " 0   row_id       100 non-null    int64         \n",
      " 1   subject_id   100 non-null    int64         \n",
      " 2   gender       100 non-null    category      \n",
      " 3   dob          100 non-null    datetime64[ns]\n",
      " 4   dod          100 non-null    datetime64[ns]\n",
      " 5   dod_hosp     70 non-null     datetime64[ns]\n",
      " 6   dod_ssn      77 non-null     datetime64[ns]\n",
      " 7   expire_flag  100 non-null    int64         \n",
      "dtypes: category(1), datetime64[ns](4), int64(3)\n",
      "memory usage: 5.8 KB\n"
     ]
    }
   ],
   "source": [
    "df.info()"
   ]
  },
  {
   "cell_type": "code",
   "execution_count": null,
   "id": "7a1bdb09-21b5-45fa-9773-16e1565863fd",
   "metadata": {},
   "outputs": [],
   "source": [
    "import pyarrow as pa\n",
    "import pyarrow.parquet as pq\n",
    "\n",
    "# Path to CSV\n",
    "csv_path = \"patients_cleaned.csv\"\n",
    "\n",
    "# Download data\n",
    "df_cleaned = pd.read_csv(csv_path)\n",
    "\n",
    "# Convert columns to datetime\n",
    "date_cols = ['dob', 'dod', 'dod_hosp', 'dod_ssn']\n",
    "for col in date_cols:\n",
    "    df_cleaned[col] = pd.to_datetime(df_cleaned[col], errors='coerce')\n",
    "\n",
    "# Manually define schema in a Hive-compatible manner\n",
    "schema = pa.schema([\n",
    "    pa.field('row_id', pa.int64()),           # Hive: bigint\n",
    "    pa.field('subject_id', pa.int64()),       # Hive: bigint\n",
    "    pa.field('gender', pa.string()),          # Hive: string\n",
    "    pa.field('dob', pa.timestamp('ns')),      # Hive: timestamp\n",
    "    pa.field('dod', pa.timestamp('ns')),      # Hive: timestamp\n",
    "    pa.field('dod_hosp', pa.timestamp('ns')), # Hive: timestamp\n",
    "    pa.field('dod_ssn', pa.timestamp('ns')),  # Hive: timestamp\n",
    "    pa.field('expire_flag', pa.int32())       # Hive: int\n",
    "])\n",
    "\n",
    "# Convert the DataFrame to a PyArrow table and apply the schema\n",
    "table = pa.Table.from_pandas(df_cleaned)\n",
    "table = table.cast(schema)\n",
    "\n",
    "# Save the file in Parquet format compatible with Hive\n",
    "parquet_path = \"patients_cleaned.parquet\"\n",
    "pq.write_table(\n",
    "    table,\n",
    "    parquet_path,\n",
    "    version='2.6',\n",
    "    use_dictionary=True,\n",
    "    compression='SNAPPY',\n",
    "    flavor='spark'\n",
    ")"
   ]
  }
 ],
 "metadata": {
  "kernelspec": {
   "display_name": "Python 3 (ipykernel)",
   "language": "python",
   "name": "python3"
  },
  "language_info": {
   "codemirror_mode": {
    "name": "ipython",
    "version": 3
   },
   "file_extension": ".py",
   "mimetype": "text/x-python",
   "name": "python",
   "nbconvert_exporter": "python",
   "pygments_lexer": "ipython3",
   "version": "3.13.2"
  }
 },
 "nbformat": 4,
 "nbformat_minor": 5
}
