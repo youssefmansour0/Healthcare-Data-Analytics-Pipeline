{
 "cells": [
  {
   "cell_type": "code",
   "execution_count": 1,
   "id": "a2df42e5-1959-47af-99e1-fa2f41bb950c",
   "metadata": {},
   "outputs": [],
   "source": [
    "import pandas as pd\n",
    "import pyarrow as pa\n",
    "import pyarrow.parquet as pq\n",
    "\n",
    "df = pd.read_csv(\"admissions_cleaned.csv\")\n",
    "\n",
    "schema = pa.schema([\n",
    "    pa.field('row_id', pa.int64()),\n",
    "    pa.field('subject_id', pa.int64()),\n",
    "    pa.field('hadm_id', pa.int64()),\n",
    "    pa.field('admittime', pa.timestamp('ns')),\n",
    "    pa.field('dischtime', pa.timestamp('ns')),\n",
    "    pa.field('deathtime', pa.timestamp('ns')),\n",
    "    pa.field('admission_type', pa.string()),\n",
    "    pa.field('admission_location', pa.string()),\n",
    "    pa.field('discharge_location', pa.string()),\n",
    "    pa.field('insurance', pa.string()),\n",
    "    pa.field('language', pa.string()),  \n",
    "    pa.field('religion', pa.string()),\n",
    "    pa.field('marital_status', pa.string()),\n",
    "    pa.field('ethnicity', pa.string()),\n",
    "    pa.field('edregtime', pa.timestamp('ns')),\n",
    "    pa.field('edouttime', pa.timestamp('ns')),\n",
    "    pa.field('diagnosis', pa.string()),\n",
    "    pa.field('hospital_expire_flag', pa.int64()),\n",
    "    pa.field('has_chartevents_data', pa.int64())\n",
    "\n",
    "])\n",
    "\n",
    "table = pa.Table.from_pandas(df, schema=schema, preserve_index=False)\n",
    "table = table.cast(schema)\n",
    "\n",
    "pq.write_table(\n",
    "    table,\n",
    "    \"admissions_cleaned.parquet\",\n",
    "    version='2.6',\n",
    "    use_dictionary=True,\n",
    "    compression='SNAPPY',\n",
    "    flavor='spark'\n",
    ")\n"
   ]
  },
  {
   "cell_type": "code",
   "execution_count": null,
   "id": "e63e9838-a3c3-4169-ae6c-09447282ee47",
   "metadata": {},
   "outputs": [],
   "source": []
  }
 ],
 "metadata": {
  "kernelspec": {
   "display_name": "Python 3 (ipykernel)",
   "language": "python",
   "name": "python3"
  },
  "language_info": {
   "codemirror_mode": {
    "name": "ipython",
    "version": 3
   },
   "file_extension": ".py",
   "mimetype": "text/x-python",
   "name": "python",
   "nbconvert_exporter": "python",
   "pygments_lexer": "ipython3",
   "version": "3.13.2"
  }
 },
 "nbformat": 4,
 "nbformat_minor": 5
}
