{
 "cells": [
  {
   "cell_type": "code",
   "execution_count": 1,
   "id": "7b46479f-b0c0-49ca-8e61-c4da2007a0ee",
   "metadata": {},
   "outputs": [],
   "source": [
    "import pandas as pd"
   ]
  },
  {
   "cell_type": "code",
   "execution_count": 2,
   "id": "46fff92d-d081-44ae-a461-2dab49e47dff",
   "metadata": {},
   "outputs": [],
   "source": [
    "df = pd.read_csv(\"patients_cleaned.csv\")"
   ]
  },
  {
   "cell_type": "code",
   "execution_count": 3,
   "id": "1d441736-d437-45ba-9041-be4d1afb22c2",
   "metadata": {},
   "outputs": [
    {
     "data": {
      "text/html": [
       "<div>\n",
       "<style scoped>\n",
       "    .dataframe tbody tr th:only-of-type {\n",
       "        vertical-align: middle;\n",
       "    }\n",
       "\n",
       "    .dataframe tbody tr th {\n",
       "        vertical-align: top;\n",
       "    }\n",
       "\n",
       "    .dataframe thead th {\n",
       "        text-align: right;\n",
       "    }\n",
       "</style>\n",
       "<table border=\"1\" class=\"dataframe\">\n",
       "  <thead>\n",
       "    <tr style=\"text-align: right;\">\n",
       "      <th></th>\n",
       "      <th>row_id</th>\n",
       "      <th>subject_id</th>\n",
       "      <th>gender</th>\n",
       "      <th>dob</th>\n",
       "      <th>dod</th>\n",
       "      <th>dod_hosp</th>\n",
       "      <th>dod_ssn</th>\n",
       "      <th>expire_flag</th>\n",
       "    </tr>\n",
       "  </thead>\n",
       "  <tbody>\n",
       "    <tr>\n",
       "      <th>0</th>\n",
       "      <td>9467</td>\n",
       "      <td>10006</td>\n",
       "      <td>F</td>\n",
       "      <td>2094-03-05</td>\n",
       "      <td>2165-08-12</td>\n",
       "      <td>2165-08-12</td>\n",
       "      <td>2165-08-12</td>\n",
       "      <td>1</td>\n",
       "    </tr>\n",
       "    <tr>\n",
       "      <th>1</th>\n",
       "      <td>9472</td>\n",
       "      <td>10011</td>\n",
       "      <td>F</td>\n",
       "      <td>2090-06-05</td>\n",
       "      <td>2126-08-28</td>\n",
       "      <td>2126-08-28</td>\n",
       "      <td>NaN</td>\n",
       "      <td>1</td>\n",
       "    </tr>\n",
       "    <tr>\n",
       "      <th>2</th>\n",
       "      <td>9474</td>\n",
       "      <td>10013</td>\n",
       "      <td>F</td>\n",
       "      <td>2038-09-03</td>\n",
       "      <td>2125-10-07</td>\n",
       "      <td>2125-10-07</td>\n",
       "      <td>2125-10-07</td>\n",
       "      <td>1</td>\n",
       "    </tr>\n",
       "    <tr>\n",
       "      <th>3</th>\n",
       "      <td>9478</td>\n",
       "      <td>10017</td>\n",
       "      <td>F</td>\n",
       "      <td>2075-09-21</td>\n",
       "      <td>2152-09-12</td>\n",
       "      <td>NaN</td>\n",
       "      <td>2152-09-12</td>\n",
       "      <td>1</td>\n",
       "    </tr>\n",
       "    <tr>\n",
       "      <th>4</th>\n",
       "      <td>9479</td>\n",
       "      <td>10019</td>\n",
       "      <td>M</td>\n",
       "      <td>2114-06-20</td>\n",
       "      <td>2163-05-15</td>\n",
       "      <td>2163-05-15</td>\n",
       "      <td>2163-05-15</td>\n",
       "      <td>1</td>\n",
       "    </tr>\n",
       "  </tbody>\n",
       "</table>\n",
       "</div>"
      ],
      "text/plain": [
       "   row_id  subject_id gender         dob         dod    dod_hosp     dod_ssn  \\\n",
       "0    9467       10006      F  2094-03-05  2165-08-12  2165-08-12  2165-08-12   \n",
       "1    9472       10011      F  2090-06-05  2126-08-28  2126-08-28         NaN   \n",
       "2    9474       10013      F  2038-09-03  2125-10-07  2125-10-07  2125-10-07   \n",
       "3    9478       10017      F  2075-09-21  2152-09-12         NaN  2152-09-12   \n",
       "4    9479       10019      M  2114-06-20  2163-05-15  2163-05-15  2163-05-15   \n",
       "\n",
       "   expire_flag  \n",
       "0            1  \n",
       "1            1  \n",
       "2            1  \n",
       "3            1  \n",
       "4            1  "
      ]
     },
     "execution_count": 3,
     "metadata": {},
     "output_type": "execute_result"
    }
   ],
   "source": [
    "df.head()"
   ]
  },
  {
   "cell_type": "code",
   "execution_count": 5,
   "id": "46f09478-213f-45a7-b37c-60cff92d0774",
   "metadata": {},
   "outputs": [
    {
     "name": "stdout",
     "output_type": "stream",
     "text": [
      "<class 'pandas.core.frame.DataFrame'>\n",
      "RangeIndex: 100 entries, 0 to 99\n",
      "Data columns (total 8 columns):\n",
      " #   Column       Non-Null Count  Dtype \n",
      "---  ------       --------------  ----- \n",
      " 0   row_id       100 non-null    int64 \n",
      " 1   subject_id   100 non-null    int64 \n",
      " 2   gender       100 non-null    object\n",
      " 3   dob          100 non-null    object\n",
      " 4   dod          100 non-null    object\n",
      " 5   dod_hosp     70 non-null     object\n",
      " 6   dod_ssn      77 non-null     object\n",
      " 7   expire_flag  100 non-null    int64 \n",
      "dtypes: int64(3), object(5)\n",
      "memory usage: 6.4+ KB\n"
     ]
    }
   ],
   "source": [
    "df.info()"
   ]
  },
  {
   "cell_type": "code",
   "execution_count": 6,
   "id": "709e2f1e-4785-4686-9176-c4f20db44c32",
   "metadata": {},
   "outputs": [],
   "source": [
    "import pyarrow as pa\n",
    "import pyarrow.parquet as pq\n",
    "\n",
    "# Path to CSV\n",
    "csv_path = \"patients_cleaned.csv\"\n",
    "\n",
    "# Download data\n",
    "df = pd.read_csv(csv_path)\n",
    "\n",
    "# Convert columns to datetime\n",
    "date_cols = ['dob', 'dod', 'dod_hosp', 'dod_ssn']\n",
    "for col in date_cols:\n",
    "    df[col] = pd.to_datetime(df[col], errors='coerce')\n",
    "\n",
    "# Manually define schema in a Hive-compatible manner\n",
    "schema = pa.schema([\n",
    "    pa.field('row_id', pa.int64()),           # Hive: bigint\n",
    "    pa.field('subject_id', pa.int64()),       # Hive: bigint\n",
    "    pa.field('gender', pa.string()),          # Hive: string\n",
    "    pa.field('dob', pa.timestamp('ns')),      # Hive: timestamp\n",
    "    pa.field('dod', pa.timestamp('ns')),      # Hive: timestamp\n",
    "    pa.field('dod_hosp', pa.timestamp('ns')), # Hive: timestamp\n",
    "    pa.field('dod_ssn', pa.timestamp('ns')),  # Hive: timestamp\n",
    "    pa.field('expire_flag', pa.int32())       # Hive: int\n",
    "])\n",
    "\n",
    "# Convert the DataFrame to a PyArrow table and apply the schema\n",
    "table = pa.Table.from_pandas(df)\n",
    "table = table.cast(schema)\n",
    "\n",
    "# Save the file in Parquet format compatible with Hive\n",
    "parquet_path = \"patients_cleaned.parquet\"\n",
    "pq.write_table(\n",
    "    table,\n",
    "    parquet_path,\n",
    "    version='2.6',\n",
    "    use_dictionary=True,\n",
    "    compression='SNAPPY',\n",
    "    flavor='spark'\n",
    ")\n",
    "\n"
   ]
  }
 ],
 "metadata": {
  "kernelspec": {
   "display_name": "Python 3 (ipykernel)",
   "language": "python",
   "name": "python3"
  },
  "language_info": {
   "codemirror_mode": {
    "name": "ipython",
    "version": 3
   },
   "file_extension": ".py",
   "mimetype": "text/x-python",
   "name": "python",
   "nbconvert_exporter": "python",
   "pygments_lexer": "ipython3",
   "version": "3.13.2"
  }
 },
 "nbformat": 4,
 "nbformat_minor": 5
}
