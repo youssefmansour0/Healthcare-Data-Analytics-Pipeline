{
 "cells": [
  {
   "cell_type": "code",
   "execution_count": null,
   "id": "f7b28b28-8607-4b51-9ed1-d70ab77f1469",
   "metadata": {},
   "outputs": [],
   "source": [
    "import pandas as pd\n",
    "import pyarrow as pa\n",
    "import pyarrow.parquet as pq"
   ]
  },
  {
   "cell_type": "code",
   "execution_count": null,
   "id": "fa711d2e-7050-48b9-874c-3e67c6f39f33",
   "metadata": {},
   "outputs": [],
   "source": [
    "df_icu = pd.read_csv(\"icu_cleaned.csv\")"
   ]
  },
  {
   "cell_type": "code",
   "execution_count": null,
   "id": "a5bea743-0167-4646-a0cd-b59b548edfd3",
   "metadata": {},
   "outputs": [],
   "source": [
    "schema_icu = pa.schema([\n",
    "    pa.field('row_id', pa.int64()),\n",
    "    pa.field('subject_id', pa.int64()),\n",
    "    pa.field('hadm_id', pa.int64()),\n",
    "    pa.field('icustay_id', pa.int64()),\n",
    "    pa.field('dbsource', pa.string()),\n",
    "    pa.field('first_careunit', pa.string()),\n",
    "    pa.field('last_careunit', pa.string()),\n",
    "    pa.field('first_wardid', pa.int64()),\n",
    "    pa.field('last_wardid', pa.int64()),\n",
    "    pa.field('intime', pa.timestamp('ns')),\n",
    "    pa.field('outtime', pa.timestamp('ns')),\n",
    "    pa.field('los', pa.float64())\n",
    "])\n",
    "\n",
    "table_icu = pa.Table.from_pandas(df_icu, schema=schema_icu, preserve_index=False)\n",
    "\n",
    "pq.write_table(\n",
    "    table_icu,\n",
    "    \"icustays_cleaned.parquet\",\n",
    "    version=\"2.6\",\n",
    "    use_dictionary=True,\n",
    "    compression=\"SNAPPY\",\n",
    "    flavor=\"spark\"\n",
    ")"
   ]
  }
 ],
 "metadata": {
  "kernelspec": {
   "display_name": "Python 3 (ipykernel)",
   "language": "python",
   "name": "python3"
  },
  "language_info": {
   "codemirror_mode": {
    "name": "ipython",
    "version": 3
   },
   "file_extension": ".py",
   "mimetype": "text/x-python",
   "name": "python",
   "nbconvert_exporter": "python",
   "pygments_lexer": "ipython3",
   "version": "3.13.2"
  }
 },
 "nbformat": 4,
 "nbformat_minor": 5
}
