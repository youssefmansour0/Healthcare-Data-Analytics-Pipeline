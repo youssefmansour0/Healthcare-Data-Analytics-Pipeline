{
 "cells": [
  {
   "cell_type": "code",
   "execution_count": null,
   "id": "c2f33eef-d081-4eb6-8d34-97a0a40845a0",
   "metadata": {},
   "outputs": [],
   "source": [
    "import pyarrow as pa\n",
    "import pyarrow.parquet as pq\n",
    "\n",
    "schema_diag = pa.schema([\n",
    "    pa.field('row_id', pa.int64()),\n",
    "    pa.field('subject_id', pa.int64()),\n",
    "    pa.field('hadm_id', pa.int64()),\n",
    "    pa.field('seq_num', pa.int64()),\n",
    "    pa.field('icd9_code', pa.string())\n",
    "])\n",
    "\n",
    "table_diag = pa.Table.from_pandas(df_diag, schema=schema_diag, preserve_index=False)\n",
    "\n",
    "pq.write_table(\n",
    "    table_diag,\n",
    "    \"diagnoses_icd_cleaned.parquet\",\n",
    "    version=\"2.6\",\n",
    "    use_dictionary=True,\n",
    "    compression=\"SNAPPY\",\n",
    "    flavor=\"spark\"\n",
    ")"
   ]
  }
 ],
 "metadata": {
  "kernelspec": {
   "display_name": "Python 3 (ipykernel)",
   "language": "python",
   "name": "python3"
  },
  "language_info": {
   "codemirror_mode": {
    "name": "ipython",
    "version": 3
   },
   "file_extension": ".py",
   "mimetype": "text/x-python",
   "name": "python",
   "nbconvert_exporter": "python",
   "pygments_lexer": "ipython3",
   "version": "3.13.2"
  }
 },
 "nbformat": 4,
 "nbformat_minor": 5
}
