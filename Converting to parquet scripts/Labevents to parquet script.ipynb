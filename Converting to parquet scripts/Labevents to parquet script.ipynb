{
 "cells": [
  {
   "cell_type": "code",
   "execution_count": null,
   "id": "4ac1a030-a30e-4d21-ba1c-9c26190a6d3e",
   "metadata": {},
   "outputs": [],
   "source": [
    "import pyarrow as pa\n",
    "import pyarrow.parquet as pq\n",
    "\n",
    "\n",
    "schema_lab = pa.schema([\n",
    "    pa.field('row_id', pa.int64()),\n",
    "    pa.field('subject_id', pa.int64()),\n",
    "    pa.field('hadm_id', pa.float64()),\n",
    "    pa.field('itemid', pa.int64()),\n",
    "    pa.field('charttime', pa.timestamp('ns')),\n",
    "    pa.field('value', pa.string()),\n",
    "    pa.field('valuenum', pa.float64()),\n",
    "    pa.field('valueuom', pa.string()),\n",
    "    pa.field('flag', pa.string())\n",
    "])\n",
    "\n",
    "\n",
    "table = pa.Table.from_pandas(df_lab, schema=schema_lab, preserve_index=False)\n",
    "\n",
    "\n",
    "pq.write_table(\n",
    "    table,\n",
    "    \"labevents_cleaned.parquet\",\n",
    "    version='2.6',\n",
    "    use_dictionary=True,\n",
    "    compression='SNAPPY',\n",
    "    flavor='spark'\n",
    ")\n"
   ]
  }
 ],
 "metadata": {
  "kernelspec": {
   "display_name": "Python 3 (ipykernel)",
   "language": "python",
   "name": "python3"
  },
  "language_info": {
   "codemirror_mode": {
    "name": "ipython",
    "version": 3
   },
   "file_extension": ".py",
   "mimetype": "text/x-python",
   "name": "python",
   "nbconvert_exporter": "python",
   "pygments_lexer": "ipython3",
   "version": "3.13.2"
  }
 },
 "nbformat": 4,
 "nbformat_minor": 5
}
